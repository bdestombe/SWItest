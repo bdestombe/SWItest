{
 "metadata": {
  "name": "",
  "signature": "sha256:c1a3f077f7c2a0d5be0ffbf1032606b2ceeee8bb8e08b3ba1006c8cebbf0f233"
 },
 "nbformat": 3,
 "nbformat_minor": 0,
 "worksheets": [
  {
   "cells": [
    {
     "cell_type": "heading",
     "level": 1,
     "metadata": {},
     "source": [
      "SWI - single layer"
     ]
    },
    {
     "cell_type": "markdown",
     "metadata": {},
     "source": [
      "A single confined layer. GHB on the LHS representing an ocean bcn. WEL on the \n",
      "RHS representing the freshwater coming from land.\n",
      "One stress period is defined of perlen days and is devided into nstp time steps \n",
      "and only the solution at the end of the stress period is written as output.\n",
      "bdestombe@gmail.com\n",
      "\n",
      "This version shows an confined aquifer, freshwater heads are around 0m. The initial zeta surface is placed a little bit above the bottom of the single aquifer. The interface is at steady state (tscale 100 changed to 1000 gave no difference). The interface is not able to move upwards, but the interface does move down if placed above the BGH solution. Especially remarkable is the small dip in the heel.\n",
      "\n",
      "Changing the initial zeta condition such that the first zini value (all the way on the left) reaches the top of the aquifer, lets the SWI solution follow the BGH solution. If you move this cell to the right the swi solution gets off more ( zeta is lower)"
     ]
    },
    {
     "cell_type": "code",
     "collapsed": false,
     "input": [
      "%matplotlib inline\n",
      "import os\n",
      "import sys\n",
      "import numpy as np\n",
      "import flopy.modflow as mf\n",
      "import flopy.utils as fu\n",
      "import matplotlib.pyplot as plt"
     ],
     "language": "python",
     "metadata": {},
     "outputs": [],
     "prompt_number": 17
    },
    {
     "cell_type": "heading",
     "level": 2,
     "metadata": {},
     "source": [
      "Paths"
     ]
    },
    {
     "cell_type": "code",
     "collapsed": false,
     "input": [
      "os.chdir('C:\\\\Users\\\\Bas\\\\Google Drive\\\\USGS\\\\FloPy\\\\slope1D')\n",
      "sys.path.append('C:\\\\Users\\\\Bas\\\\Google Drive\\\\USGS\\\\FloPy\\\\basScript') # location of gridObj\n",
      "\n",
      "modelname \t= 'run1swi2'\n",
      "exe_name \t= 'mf2005'\n",
      "workspace \t= 'data'"
     ],
     "language": "python",
     "metadata": {},
     "outputs": [],
     "prompt_number": 18
    },
    {
     "cell_type": "heading",
     "level": 2,
     "metadata": {},
     "source": [
      "Model input"
     ]
    },
    {
     "cell_type": "code",
     "collapsed": false,
     "input": [
      "ml = mf.Modflow(modelname, exe_name=exe_name, model_ws=workspace)"
     ],
     "language": "python",
     "metadata": {},
     "outputs": [],
     "prompt_number": 19
    },
    {
     "cell_type": "heading",
     "level": 3,
     "metadata": {},
     "source": [
      "Test variables"
     ]
    },
    {
     "cell_type": "code",
     "collapsed": false,
     "input": [
      "tscale\t= 1.\n",
      "nstp \t= tscale * 1000. \t\t\t#[]\n",
      "perlen \t= tscale * 365. * 200. \t#[d]\n",
      "ssz \t= 0.2 \t\t\t#[]\n",
      "Q \t\t= 0.001 \t \t#[m3/d]"
     ],
     "language": "python",
     "metadata": {},
     "outputs": [],
     "prompt_number": 20
    },
    {
     "cell_type": "heading",
     "level": 3,
     "metadata": {},
     "source": [
      "Discretization data"
     ]
    },
    {
     "cell_type": "code",
     "collapsed": false,
     "input": [
      "nlay = 1\n",
      "nrow = 1\n",
      "ncol = 200#4\n",
      "delr = 1.#[20.,25.,30.,35.]\n",
      "delc = 1.\n",
      "\n",
      "topL = -20.\n",
      "topR = -15.\n",
      "botL = -21.\n",
      "\n",
      "iGHB = np.arange(30)\n",
      "\n",
      "TOP  = np.linspace(topL,topL,ncol).reshape((nrow,ncol))\n",
      "BOTM = np.array(botL+TOP-topL).reshape((nlay,nrow,ncol))\n",
      "\n",
      "TOP[0,np.arange(iGHB.max(),ncol)] = np.linspace(topL,topR,ncol-iGHB.max())\n",
      "BOTM = np.array(botL+TOP-topL).reshape((nlay,nrow,ncol))\n",
      "\n",
      "save_head_every=1"
     ],
     "language": "python",
     "metadata": {},
     "outputs": [],
     "prompt_number": 21
    },
    {
     "cell_type": "heading",
     "level": 3,
     "metadata": {},
     "source": [
      "BCN: WEL"
     ]
    },
    {
     "cell_type": "code",
     "collapsed": false,
     "input": [
      "lrcQ1 = np.array([(0, 0, 199, Q)]) #LRCQ, Q[m**3/d]"
     ],
     "language": "python",
     "metadata": {},
     "outputs": [],
     "prompt_number": 22
    },
    {
     "cell_type": "heading",
     "level": 3,
     "metadata": {},
     "source": [
      "BCN: GHB"
     ]
    },
    {
     "cell_type": "code",
     "collapsed": false,
     "input": [
      "lrchc \t\t\t\t\t= np.zeros((30, 5))\n",
      "lrchc[:, [0, 1, 3, 4]] \t= [0, 0, -topL*0.025, 0.8 / 2.0 * delc]\n",
      "lrchc[:, 2] \t\t\t= np.arange(0, 30)\n",
      "#print lrchc, topL"
     ],
     "language": "python",
     "metadata": {},
     "outputs": [],
     "prompt_number": 23
    },
    {
     "cell_type": "heading",
     "level": 3,
     "metadata": {},
     "source": [
      "SWI2"
     ]
    },
    {
     "cell_type": "code",
     "collapsed": false,
     "input": [
      "#zini \t= np.hstack(( topL * np.ones(24), np.arange(topL, botL, -0.5), botL * np.ones(94)))[np.newaxis, :] # (nrow,ncol)\n",
      "zini \t= botL*np.ones((1, ncol), dtype=np.float)+0.2\n",
      "zini[0,10] = topL #<<<========================================================================================================<<\n",
      "isource = np.zeros((1, ncol), dtype=np.int)\n",
      "isource[:, :30] = -2\n",
      "imax = (BOTM[0,0,-1]-BOTM[0,0,-2])/delr"
     ],
     "language": "python",
     "metadata": {},
     "outputs": [],
     "prompt_number": 24
    },
    {
     "cell_type": "heading",
     "level": 3,
     "metadata": {},
     "source": [
      "Model objects"
     ]
    },
    {
     "cell_type": "code",
     "collapsed": false,
     "input": [
      "ml = mf.Modflow(modelname, version='mf2005', exe_name=exe_name)\n",
      "discret = mf.ModflowDis(ml, nrow=nrow, ncol=ncol, nlay=nlay, delr=delr, delc=delc,\n",
      "                        laycbd=[0], top=TOP, botm=BOTM,\n",
      "                        nper=1, perlen=perlen, nstp=nstp)\n",
      "bas = mf.ModflowBas(ml, ibound=1, strt=1.0)\n",
      "bcf = mf.ModflowBcf(ml, laycon=[0], tran=[4.0])\n",
      "wel = mf.ModflowWel(ml, stress_period_data={0:lrcQ1})\n",
      "ghb = mf.ModflowGhb(ml, stress_period_data={0:lrchc})\n",
      "swi = mf.ModflowSwi2(ml, nsrf=1, istrat=1, toeslope=0.02, tipslope=0.04, nu=[0, 0.025],\n",
      "                     zeta=[zini], ssz=ssz, isource=isource, nsolver=1)\n",
      "oc  = mf.ModflowOc(ml, save_head_every=nstp)\n",
      "pcg = mf.ModflowPcg(ml)"
     ],
     "language": "python",
     "metadata": {},
     "outputs": [],
     "prompt_number": 25
    },
    {
     "cell_type": "code",
     "collapsed": false,
     "input": [
      "ml.write_input() #--write the model files"
     ],
     "language": "python",
     "metadata": {},
     "outputs": [],
     "prompt_number": 26
    },
    {
     "cell_type": "heading",
     "level": 2,
     "metadata": {},
     "source": [
      "Run the model"
     ]
    },
    {
     "cell_type": "code",
     "collapsed": false,
     "input": [
      "m = ml.run_model(silent=True, report=True)"
     ],
     "language": "python",
     "metadata": {},
     "outputs": [],
     "prompt_number": 27
    },
    {
     "cell_type": "heading",
     "level": 2,
     "metadata": {},
     "source": [
      "Read the output"
     ]
    },
    {
     "cell_type": "markdown",
     "metadata": {},
     "source": [
      "only one head entry and one zeta entry in binary files"
     ]
    },
    {
     "cell_type": "code",
     "collapsed": false,
     "input": [
      "headfile = modelname + '.hds'\n",
      "hdobj = fu.HeadFile(headfile)\n",
      "head = hdobj.get_data(idx=0)"
     ],
     "language": "python",
     "metadata": {},
     "outputs": [],
     "prompt_number": 28
    },
    {
     "cell_type": "code",
     "collapsed": false,
     "input": [
      "zetafile = modelname + '.zta'\n",
      "zobj = fu.CellBudgetFile(zetafile)\n",
      "zeta = zobj.get_data(idx=0, text='      ZETASRF  1')[0]"
     ],
     "language": "python",
     "metadata": {},
     "outputs": [],
     "prompt_number": 29
    },
    {
     "cell_type": "heading",
     "level": 2,
     "metadata": {},
     "source": [
      "Plot"
     ]
    },
    {
     "cell_type": "code",
     "collapsed": false,
     "input": [
      "import gridobj as grd\n",
      "gr = grd.gridobj(discret)"
     ],
     "language": "python",
     "metadata": {},
     "outputs": [],
     "prompt_number": 30
    },
    {
     "cell_type": "code",
     "collapsed": false,
     "input": [
      "fig = plt.figure(figsize=(20, 8), dpi=300, facecolor='w', edgecolor='k')\n",
      "ax = fig.add_subplot(111)\n",
      "ax.plot(gr.cGr[0,:-1],TOP.squeeze(),drawstyle='steps-post')\n",
      "ax.plot(gr.cGr[0,:-1],BOTM.squeeze(),drawstyle='steps-post')\n",
      "ax.plot(gr.cGr[0,:-1],zini[0,:], drawstyle='steps-post',label='Initial')\n",
      "ax.plot(gr.cGr[0,:-1],zeta[0,0,:],drawstyle='steps-post', label='SWI2')\n",
      "ax.plot(gr.cGr[0,:-1],head[0, 0, :], label='feshw head')\n",
      "ax.plot(gr.cGr[0,:-1],TOP[:,0] - 40. * (head[0, 0, :]), label='Ghyben-Herzberg')\n",
      "ax.axis(gr.limLC([0,-120.,-0.5,-4.5]))\n",
      "leg = ax.legend(loc='lower left', numpoints=1)\n",
      "leg._drawFrame = False"
     ],
     "language": "python",
     "metadata": {},
     "outputs": [
      {
       "metadata": {},
       "output_type": "display_data",
       "png": "[encoded data removed]",
       "text": [
        "<matplotlib.figure.Figure at 0xa278c18>"
       ]
      }
     ],
     "prompt_number": 31
    },
    {
     "cell_type": "code",
     "collapsed": false,
     "input": [
      "plt.plot(gr.cGr[0,:-1],zini[0,:]-zeta[0,0,:])"
     ],
     "language": "python",
     "metadata": {},
     "outputs": [
      {
       "metadata": {},
       "output_type": "pyout",
       "prompt_number": 32,
       "text": [
        "[<matplotlib.lines.Line2D at 0xba688d0>]"
       ]
      },
      {
       "metadata": {},
       "output_type": "display_data",
       "png": "[encoded data removed]",
       "text": [
        "<matplotlib.figure.Figure at 0x39e57b8>"
       ]
      }
     ],
     "prompt_number": 32
    },
    {
     "cell_type": "markdown",
     "metadata": {},
     "source": [
      "                      VOLUMETRIC SWI ZONE BUDGET FOR ENTIRE MODEL\n",
      "                     AT END OF TIME STEP 1000 IN STRESS PERIOD   1\n",
      "                                      ZONE     1\n",
      "  -----------------------------------------------------------------------------------\n",
      "\n",
      "        CUMULATIVE VOLUMES      L**3       RATES FOR THIS TIME STEP      L**3/T\n",
      "        ------------------                 ------------------------\n",
      "\n",
      "              IN:                                      IN:\n",
      "              ---                                      ---\n",
      "             BOUNDARIES =          73.0006            BOUNDARIES =       1.0000E-03\n",
      "          CONSTANT HEAD =           0.0000         CONSTANT HEAD =           0.0000\n",
      "            ZONE CHANGE =           2.9636           ZONE CHANGE =           0.0000\n",
      "       ZONE CHG TIP/TOE =       2.4124E-03      ZONE CHG TIP/TOE =           0.0000\n",
      "            ZONE MIXING =           0.0000           ZONE MIXING =           0.0000\n",
      "\n",
      "               TOTAL IN =          75.9665              TOTAL IN =       1.0000E-03\n",
      "\n",
      "             OUT:                                     OUT:\n",
      "             ----                                     ----\n",
      "             BOUNDARIES =          75.8509            BOUNDARIES =       1.0001E-03\n",
      "          CONSTANT HEAD =           0.0000         CONSTANT HEAD =           0.0000\n",
      "            ZONE CHANGE =           0.1167           ZONE CHANGE =           0.0000\n",
      "       ZONE CHG TIP/TOE =       2.0123E-03      ZONE CHG TIP/TOE =           0.0000\n",
      "            ZONE MIXING =           0.0000           ZONE MIXING =           0.0000\n",
      "\n",
      "              TOTAL OUT =          75.9695             TOTAL OUT =       1.0001E-03\n",
      "\n",
      "               IN - OUT =      -2.9831E-03              IN - OUT =      -5.5181E-08\n",
      "\n",
      "    PERCENT DISCREPANCY =          -0.00     PERCENT DISCREPANCY =          -0.01\n",
      "\n",
      "\n",
      "\n",
      "                      VOLUMETRIC SWI ZONE BUDGET FOR ENTIRE MODEL\n",
      "                     AT END OF TIME STEP 1000 IN STRESS PERIOD   1\n",
      "                                      ZONE     2\n",
      "  -----------------------------------------------------------------------------------\n",
      "\n",
      "        CUMULATIVE VOLUMES      L**3       RATES FOR THIS TIME STEP      L**3/T\n",
      "        ------------------                 ------------------------\n",
      "\n",
      "              IN:                                      IN:\n",
      "              ---                                      ---\n",
      "             BOUNDARIES =           2.8501            BOUNDARIES =       6.0241E-08\n",
      "          CONSTANT HEAD =           0.0000         CONSTANT HEAD =           0.0000\n",
      "            ZONE CHANGE =           0.1164           ZONE CHANGE =           0.0000\n",
      "       ZONE CHG TIP/TOE =       2.0123E-03      ZONE CHG TIP/TOE =           0.0000\n",
      "            ZONE MIXING =           0.0000           ZONE MIXING =           0.0000\n",
      "\n",
      "               TOTAL IN =           2.9685              TOTAL IN =       6.0241E-08\n",
      "\n",
      "             OUT:                                     OUT:\n",
      "             ----                                     ----\n",
      "             BOUNDARIES =           0.0000            BOUNDARIES =           0.0000\n",
      "          CONSTANT HEAD =           0.0000         CONSTANT HEAD =           0.0000\n",
      "            ZONE CHANGE =           2.9636           ZONE CHANGE =           0.0000\n",
      "       ZONE CHG TIP/TOE =       2.1996E-03      ZONE CHG TIP/TOE =           0.0000\n",
      "            ZONE MIXING =           0.0000           ZONE MIXING =           0.0000\n",
      "\n",
      "              TOTAL OUT =           2.9658             TOTAL OUT =           0.0000\n",
      "\n",
      "               IN - OUT =       2.7764E-03              IN - OUT =       6.0241E-08\n",
      "\n",
      "    PERCENT DISCREPANCY =           0.09     PERCENT DISCREPANCY =         200.00\n",
      "\n",
      "\n",
      " HEAD WILL BE SAVED ON UNIT   51 AT END OF TIME STEP 1000, STRESS PERIOD    1\n",
      "1\n",
      "  VOLUMETRIC BUDGET FOR ENTIRE MODEL AT END OF TIME STEP 1000, STRESS PERIOD   1\n",
      "  ------------------------------------------------------------------------------\n",
      "\n",
      "     CUMULATIVE VOLUMES      L**3       RATES FOR THIS TIME STEP      L**3/T\n",
      "     ------------------                 ------------------------\n",
      "\n",
      "           IN:                                      IN:\n",
      "           ---                                      ---\n",
      "             STORAGE =           0.0000               STORAGE =           0.0000\n",
      "       CONSTANT HEAD =           0.0000         CONSTANT HEAD =           0.0000\n",
      "               WELLS =          73.0006                 WELLS =       1.0000E-03\n",
      "     HEAD DEP BOUNDS =           2.8501       HEAD DEP BOUNDS =       6.0241E-08\n",
      "          SWIADDTOCH =           0.0000            SWIADDTOCH =           0.0000\n",
      "\n",
      "            TOTAL IN =          75.8507              TOTAL IN =       1.0001E-03\n",
      "\n",
      "          OUT:                                     OUT:\n",
      "          ----                                     ----\n",
      "             STORAGE =           0.0000               STORAGE =           0.0000\n",
      "       CONSTANT HEAD =           0.0000         CONSTANT HEAD =           0.0000\n",
      "               WELLS =           0.0000                 WELLS =           0.0000\n",
      "     HEAD DEP BOUNDS =          75.8509       HEAD DEP BOUNDS =       1.0001E-03\n",
      "          SWIADDTOCH =           0.0000            SWIADDTOCH =           0.0000\n",
      "\n",
      "           TOTAL OUT =          75.8509             TOTAL OUT =       1.0001E-03\n",
      "\n",
      "            IN - OUT =      -1.9836E-04              IN - OUT =       5.0059E-09\n",
      "\n",
      " PERCENT DISCREPANCY =          -0.00     PERCENT DISCREPANCY =           0.00"
     ]
    },
    {
     "cell_type": "code",
     "collapsed": false,
     "input": [],
     "language": "python",
     "metadata": {},
     "outputs": [],
     "prompt_number": 32
    }
   ],
   "metadata": {}
  }
 ]
}