{
 "metadata": {
  "name": "",
  "signature": "sha256:bd6cfbc10be76c24cfa604a9b881b4969d30ce403b866a27b3cae60033085415"
 },
 "nbformat": 3,
 "nbformat_minor": 0,
 "worksheets": [
  {
   "cells": [
    {
     "cell_type": "heading",
     "level": 1,
     "metadata": {},
     "source": [
      "SWI - single layer"
     ]
    },
    {
     "cell_type": "markdown",
     "metadata": {},
     "source": [
      "A single confined layer. GHB on the LHS representing an ocean bcn. WEL on the \n",
      "RHS representing the freshwater coming from land.\n",
      "One stress period is defined of perlen days and is devided into nstp time steps \n",
      "and only the solution at the end of the stress period is written as output.\n",
      "bdestombe@gmail.com\n",
      "\n",
      "This version shows an confined aquifer, freshwater heads are around 0m. The initial zeta surface is placed a little bit above the bottom of the single aquifer. The interface is at steady state (tscale 100 changed to 1000 gave no difference). The interface is not able to move upwards, but (with playing with zini) the interface does move down if placed above the BGH solution."
     ]
    },
    {
     "cell_type": "code",
     "collapsed": false,
     "input": [
      "%matplotlib inline\n",
      "import os\n",
      "import sys\n",
      "import numpy as np\n",
      "import flopy.modflow as mf\n",
      "import flopy.utils as fu\n",
      "import matplotlib.pyplot as plt"
     ],
     "language": "python",
     "metadata": {},
     "outputs": [],
     "prompt_number": 1
    },
    {
     "cell_type": "heading",
     "level": 2,
     "metadata": {},
     "source": [
      "Paths"
     ]
    },
    {
     "cell_type": "code",
     "collapsed": false,
     "input": [
      "os.chdir('C:\\\\Users\\\\Bas\\\\Google Drive\\\\USGS\\\\FloPy\\\\slope1D')\n",
      "sys.path.append('C:\\\\Users\\\\Bas\\\\Google Drive\\\\USGS\\\\FloPy\\\\basScript') # location of gridObj\n",
      "\n",
      "modelname \t= 'run1swi2'\n",
      "exe_name \t= 'mf2005'\n",
      "workspace \t= 'data'"
     ],
     "language": "python",
     "metadata": {},
     "outputs": [],
     "prompt_number": 2
    },
    {
     "cell_type": "heading",
     "level": 2,
     "metadata": {},
     "source": [
      "Model input"
     ]
    },
    {
     "cell_type": "code",
     "collapsed": false,
     "input": [
      "ml = mf.Modflow(modelname, exe_name=exe_name, model_ws=workspace)"
     ],
     "language": "python",
     "metadata": {},
     "outputs": [],
     "prompt_number": 3
    },
    {
     "cell_type": "heading",
     "level": 3,
     "metadata": {},
     "source": [
      "Test variables"
     ]
    },
    {
     "cell_type": "code",
     "collapsed": false,
     "input": [
      "tscale\t= 1.\n",
      "nstp \t= tscale * 1000. \t\t\t#[]\n",
      "perlen \t= tscale * 365. * 200. \t#[d]\n",
      "ssz \t= 0.2 \t\t\t#[]\n",
      "Q \t\t= 0.001 \t \t#[m3/d]"
     ],
     "language": "python",
     "metadata": {},
     "outputs": [],
     "prompt_number": 4
    },
    {
     "cell_type": "heading",
     "level": 3,
     "metadata": {},
     "source": [
      "Discretization data"
     ]
    },
    {
     "cell_type": "code",
     "collapsed": false,
     "input": [
      "nlay = 1\n",
      "nrow = 1\n",
      "ncol = 200#4\n",
      "delr = 1.#[20.,25.,30.,35.]\n",
      "delc = 1.\n",
      "\n",
      "topL = -20.\n",
      "topR = -15.\n",
      "botL = -21.\n",
      "\n",
      "iGHB = np.arange(30)\n",
      "\n",
      "TOP  = np.linspace(topL,topL,ncol).reshape((nrow,ncol))\n",
      "BOTM = np.array(botL+TOP-topL).reshape((nlay,nrow,ncol))\n",
      "\n",
      "TOP[0,np.arange(iGHB.max(),ncol)] = np.linspace(topL,topR,ncol-iGHB.max())\n",
      "BOTM = np.array(botL+TOP-topL).reshape((nlay,nrow,ncol))\n",
      "\n",
      "save_head_every=1"
     ],
     "language": "python",
     "metadata": {},
     "outputs": [],
     "prompt_number": 5
    },
    {
     "cell_type": "heading",
     "level": 3,
     "metadata": {},
     "source": [
      "BCN: WEL"
     ]
    },
    {
     "cell_type": "code",
     "collapsed": false,
     "input": [
      "lrcQ1 = np.array([(0, 0, 199, Q)]) #LRCQ, Q[m**3/d]"
     ],
     "language": "python",
     "metadata": {},
     "outputs": [],
     "prompt_number": 6
    },
    {
     "cell_type": "heading",
     "level": 3,
     "metadata": {},
     "source": [
      "BCN: GHB"
     ]
    },
    {
     "cell_type": "code",
     "collapsed": false,
     "input": [
      "lrchc \t\t\t\t\t= np.zeros((30, 5))\n",
      "lrchc[:, [0, 1, 3, 4]] \t= [0, 0, -topL*0.025, 0.8 / 2.0 * delc]\n",
      "lrchc[:, 2] \t\t\t= np.arange(0, 30)\n",
      "#print lrchc, topL"
     ],
     "language": "python",
     "metadata": {},
     "outputs": [],
     "prompt_number": 7
    },
    {
     "cell_type": "heading",
     "level": 3,
     "metadata": {},
     "source": [
      "SWI2"
     ]
    },
    {
     "cell_type": "code",
     "collapsed": false,
     "input": [
      "#zini \t= np.hstack(( topL * np.ones(24), np.arange(topL, botL, -0.5), botL * np.ones(94)))[np.newaxis, :] # (nrow,ncol)\n",
      "zini \t= botL*np.ones((1, ncol), dtype=np.float)+0.2\n",
      "zini[0,0] = topL\n",
      "isource = np.zeros((1, ncol), dtype=np.int)\n",
      "isource[:, :30] = 2\n",
      "imax = (BOTM[0,0,-1]-BOTM[0,0,-2])/delr\n",
      "print imax"
     ],
     "language": "python",
     "metadata": {},
     "outputs": [
      {
       "output_type": "stream",
       "stream": "stdout",
       "text": [
        "0.0294117647059\n"
       ]
      }
     ],
     "prompt_number": 8
    },
    {
     "cell_type": "heading",
     "level": 3,
     "metadata": {},
     "source": [
      "Model objects"
     ]
    },
    {
     "cell_type": "code",
     "collapsed": false,
     "input": [
      "ml = mf.Modflow(modelname, version='mf2005', exe_name=exe_name)\n",
      "discret = mf.ModflowDis(ml, nrow=nrow, ncol=ncol, nlay=nlay, delr=delr, delc=delc,\n",
      "                        laycbd=[0], top=TOP, botm=BOTM,\n",
      "                        nper=1, perlen=perlen, nstp=nstp)\t\t\t\t\t\t\t\t\t\t\t\t\t\t\n",
      "bas = mf.ModflowBas(ml, ibound=1, strt=1.0)\n",
      "bcf = mf.ModflowBcf(ml, laycon=[0], tran=[4.0])\n",
      "wel = mf.ModflowWel(ml, stress_period_data={0:lrcQ1})\n",
      "ghb = mf.ModflowGhb(ml, stress_period_data={0:lrchc})\n",
      "swi = mf.ModflowSwi2(ml, nsrf=1, istrat=1, toeslope=0.02, tipslope=0.04, nu=[0, 0.025],\n",
      "                     zeta=[zini], ssz=ssz, isource=isource, nsolver=1)\n",
      "oc  = mf.ModflowOc(ml, save_head_every=nstp)\n",
      "pcg = mf.ModflowPcg(ml)"
     ],
     "language": "python",
     "metadata": {},
     "outputs": [],
     "prompt_number": 9
    },
    {
     "cell_type": "code",
     "collapsed": false,
     "input": [
      "ml.write_input() #--write the model files"
     ],
     "language": "python",
     "metadata": {},
     "outputs": [],
     "prompt_number": 10
    },
    {
     "cell_type": "heading",
     "level": 2,
     "metadata": {},
     "source": [
      "Run the model"
     ]
    },
    {
     "cell_type": "code",
     "collapsed": false,
     "input": [
      "m = ml.run_model(silent=True, report=True)"
     ],
     "language": "python",
     "metadata": {},
     "outputs": [],
     "prompt_number": 11
    },
    {
     "cell_type": "heading",
     "level": 2,
     "metadata": {},
     "source": [
      "Read the output"
     ]
    },
    {
     "cell_type": "markdown",
     "metadata": {},
     "source": [
      "only one head entry and one zeta entry in binary files"
     ]
    },
    {
     "cell_type": "code",
     "collapsed": false,
     "input": [
      "headfile = modelname + '.hds'\n",
      "hdobj = fu.HeadFile(headfile)\n",
      "head = hdobj.get_data(idx=0)"
     ],
     "language": "python",
     "metadata": {},
     "outputs": [],
     "prompt_number": 12
    },
    {
     "cell_type": "code",
     "collapsed": false,
     "input": [
      "zetafile = modelname + '.zta'\n",
      "zobj = fu.CellBudgetFile(zetafile)\n",
      "zeta = zobj.get_data(idx=0, text='      ZETASRF  1')[0]"
     ],
     "language": "python",
     "metadata": {},
     "outputs": [],
     "prompt_number": 13
    },
    {
     "cell_type": "heading",
     "level": 2,
     "metadata": {},
     "source": [
      "Plot"
     ]
    },
    {
     "cell_type": "code",
     "collapsed": false,
     "input": [
      "import gridobj as grd\n",
      "gr = grd.gridobj(discret)"
     ],
     "language": "python",
     "metadata": {},
     "outputs": [],
     "prompt_number": 14
    },
    {
     "cell_type": "code",
     "collapsed": false,
     "input": [
      "fig = plt.figure()\n",
      "ax = fig.add_subplot(111)\n",
      "ax.plot(gr.cGr[0,:-1],TOP.squeeze(),drawstyle='steps')\n",
      "ax.plot(gr.cGr[0,:-1],BOTM.squeeze(),drawstyle='steps')\n",
      "ax.plot(gr.cGr[0,:-1],zini[0,:],drawstyle='steps', label='Initial')\n",
      "ax.plot(gr.cGr[0,:-1],zeta[0,0,:],drawstyle='steps', label='SWI2')\n",
      "ax.plot(gr.cGr[0,:-1],head[0, 0, :], label='feshw head')\n",
      "ax.plot(gr.cGr[0,:-1],TOP[:,0] - 40. * (head[0, 0, :]), label='Ghyben-Herzberg')\n",
      "ax.axis(gr.limLC())\n",
      "leg = ax.legend(loc='lower left', numpoints=1)\n",
      "leg._drawFrame = False"
     ],
     "language": "python",
     "metadata": {},
     "outputs": [
      {
       "metadata": {},
       "output_type": "display_data",
       "png": "[encoded data removed]",
       "text": [
        "<matplotlib.figure.Figure at 0x9cfbbe0>"
       ]
      }
     ],
     "prompt_number": 15
    },
    {
     "cell_type": "code",
     "collapsed": false,
     "input": [
      "fig = plt.figure(figsize=(20, 8), dpi=300, facecolor='w', edgecolor='k')\n",
      "ax = fig.add_subplot(111)\n",
      "ax.plot(gr.cGr[0,:-1],TOP.squeeze(),drawstyle='steps-post')\n",
      "ax.plot(gr.cGr[0,:-1],BOTM.squeeze(),drawstyle='steps-post')\n",
      "ax.plot(gr.cGr[0,:-1],zini[0,:], drawstyle='steps-post',label='Initial')\n",
      "ax.plot(gr.cGr[0,:-1],zeta[0,0,:],drawstyle='steps-post', label='SWI2')\n",
      "ax.plot(gr.cGr[0,:-1],head[0, 0, :], label='feshw head')\n",
      "ax.plot(gr.cGr[0,:-1],TOP[:,0] - 40. * (head[0, 0, :]), label='Ghyben-Herzberg')\n",
      "ax.axis(gr.limLC([0,-120.,-0.5,-4.5]))\n",
      "leg = ax.legend(loc='lower left', numpoints=1)\n",
      "leg._drawFrame = False"
     ],
     "language": "python",
     "metadata": {},
     "outputs": [
      {
       "metadata": {},
       "output_type": "display_data",
       "png": "[encoded data removed]",
       "text": [
        "<matplotlib.figure.Figure at 0xa053be0>"
       ]
      }
     ],
     "prompt_number": 29
    },
    {
     "cell_type": "code",
     "collapsed": false,
     "input": [
      "plt.plot(gr.cGr[0,:-1],zini[0,:]-zeta[0,0,:])"
     ],
     "language": "python",
     "metadata": {},
     "outputs": [
      {
       "metadata": {},
       "output_type": "pyout",
       "prompt_number": 28,
       "text": [
        "[<matplotlib.lines.Line2D at 0xa1bf6d8>]"
       ]
      },
      {
       "metadata": {},
       "output_type": "display_data",
       "png": "[encoded data removed]",
       "text": [
        "<matplotlib.figure.Figure at 0xa15abe0>"
       ]
      }
     ],
     "prompt_number": 28
    },
    {
     "cell_type": "code",
     "collapsed": false,
     "input": [
      "print head[0, 0, :]"
     ],
     "language": "python",
     "metadata": {},
     "outputs": [
      {
       "output_type": "stream",
       "stream": "stdout",
       "text": [
        "[ 0.5         0.50000006  0.50000012  0.50000018  0.5000003   0.50000042\n",
        "  0.50000054  0.50000072  0.50000095  0.50000125  0.50000173  0.50000232\n",
        "  0.50000322  0.50000441  0.50000602  0.50000823  0.50001127  0.50001544\n",
        "  0.50002116  0.50002897  0.5000397   0.50005436  0.50007451  0.5001021\n",
        "  0.50013989  0.50019163  0.50026256  0.50035977  0.50049293  0.50067538\n",
        "  0.50092536  0.5011754   0.50142539  0.50167537  0.50192541  0.50217539\n",
        "  0.50242537  0.50267541  0.5029254   0.50317538  0.50342542  0.5036754\n",
        "  0.50392538  0.50417536  0.50442541  0.50467539  0.50492537  0.50517541\n",
        "  0.50542539  0.50567538  0.50592542  0.5061754   0.50642538  0.50667536\n",
        "  0.5069254   0.50717539  0.50742537  0.50767541  0.50792539  0.50817537\n",
        "  0.50842541  0.5086754   0.50892538  0.50917542  0.5094254   0.50967538\n",
        "  0.50992537  0.51017541  0.51042539  0.51067537  0.51092541  0.51117539\n",
        "  0.51142538  0.51167542  0.5119254   0.51217538  0.51242536  0.5126754\n",
        "  0.51292539  0.51317537  0.51342541  0.51367539  0.51392537  0.51417542\n",
        "  0.5144254   0.51467538  0.51492542  0.5151754   0.51542538  0.51567537\n",
        "  0.51592541  0.51617539  0.51642537  0.51667541  0.51692539  0.51717538\n",
        "  0.51742542  0.5176754   0.51792538  0.51817536  0.51842541  0.51867539\n",
        "  0.51892537  0.51917541  0.51942539  0.51967537  0.51992542  0.5201754\n",
        "  0.52042538  0.52067542  0.5209254   0.52117538  0.52142537  0.52167541\n",
        "  0.52192539  0.52217537  0.52242541  0.5226754   0.52292538  0.52317542\n",
        "  0.5234254   0.52367538  0.52392536  0.52417541  0.52442539  0.52467537\n",
        "  0.52492541  0.52517539  0.52542537  0.52567542  0.5259254   0.52617538\n",
        "  0.52642542  0.5266754   0.52692538  0.52717537  0.52742541  0.52767539\n",
        "  0.52792537  0.52817541  0.5284254   0.52867538  0.52892542  0.5291754\n",
        "  0.52942538  0.52967536  0.52992541  0.53017539  0.53042537  0.53067541\n",
        "  0.53092539  0.53117537  0.53142542  0.5316754   0.53192538  0.53217542\n",
        "  0.5324254   0.53267539  0.53292537  0.53317541  0.53342539  0.53367537\n",
        "  0.53392541  0.5341754   0.53442538  0.53467542  0.5349254   0.53517538\n",
        "  0.53542536  0.53567541  0.53592539  0.53617537  0.53642541  0.53667539\n",
        "  0.53692538  0.53717542  0.5374254   0.53767538  0.53792542  0.5381754\n",
        "  0.53842539  0.53867537  0.53892541  0.53917539  0.53942537  0.53967541\n",
        "  0.5399254   0.54017538  0.54042542  0.5406754   0.54092538  0.54117537\n",
        "  0.54142541  0.54167539  0.54192537  0.54217541  0.54242539  0.54267538\n",
        "  0.54292542  0.5431754 ]\n"
       ]
      }
     ],
     "prompt_number": 18
    }
   ],
   "metadata": {}
  }
 ]
}