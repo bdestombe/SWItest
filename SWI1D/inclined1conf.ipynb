{
 "metadata": {
  "name": "",
  "signature": "sha256:2182d59676248ce4e19e9b92fa259169e448ddd9b1177d62ec5a28f3a18ecebf"
 },
 "nbformat": 3,
 "nbformat_minor": 0,
 "worksheets": [
  {
   "cells": [
    {
     "cell_type": "heading",
     "level": 1,
     "metadata": {},
     "source": [
      "SWI - single layer"
     ]
    },
    {
     "cell_type": "markdown",
     "metadata": {},
     "source": [
      "A single confined layer. GHB on the LHS representing an ocean bcn. WEL on the \n",
      "RHS representing the freshwater coming from land.\n",
      "One stress period is defined of perlen days and is devided into nstp time steps \n",
      "and only the solution at the end of the stress period is written as output.\n",
      "bdestombe@gmail.com\n",
      "\n",
      "This version describes an inclined confined aquifer. Watch out! Large parts of the cells stand dry!\n",
      "\n",
      "The SWI solution behaves like it should and doesnt crawl upward"
     ]
    },
    {
     "cell_type": "code",
     "collapsed": false,
     "input": [
      "%matplotlib inline\n",
      "import os\n",
      "import sys\n",
      "import numpy as np\n",
      "import flopy.modflow as mf\n",
      "import flopy.utils as fu\n",
      "import matplotlib.pyplot as plt"
     ],
     "language": "python",
     "metadata": {},
     "outputs": [],
     "prompt_number": 36
    },
    {
     "cell_type": "heading",
     "level": 2,
     "metadata": {},
     "source": [
      "Paths"
     ]
    },
    {
     "cell_type": "code",
     "collapsed": false,
     "input": [
      "os.chdir('C:\\\\Users\\\\Bas\\\\Google Drive\\\\USGS\\\\FloPy\\\\slope1D')\n",
      "sys.path.append('C:\\\\Users\\\\Bas\\\\Google Drive\\\\USGS\\\\FloPy\\\\basScript') # location of gridObj\n",
      "\n",
      "modelname \t= 'run1swi2'\n",
      "exe_name \t= 'mf2005'\n",
      "workspace \t= 'data'"
     ],
     "language": "python",
     "metadata": {},
     "outputs": [],
     "prompt_number": 37
    },
    {
     "cell_type": "heading",
     "level": 2,
     "metadata": {},
     "source": [
      "Model input"
     ]
    },
    {
     "cell_type": "code",
     "collapsed": false,
     "input": [
      "ml = mf.Modflow(modelname, exe_name=exe_name, model_ws=workspace)"
     ],
     "language": "python",
     "metadata": {},
     "outputs": [],
     "prompt_number": 38
    },
    {
     "cell_type": "heading",
     "level": 3,
     "metadata": {},
     "source": [
      "Test variables"
     ]
    },
    {
     "cell_type": "code",
     "collapsed": false,
     "input": [
      "tscale\t= 1000\n",
      "nstp \t= tscale * 100 \t\t\t#[]\n",
      "perlen \t= tscale * 365. * 200. \t#[d]\n",
      "ssz \t= 0.2 \t\t\t#[]\n",
      "Q \t\t= 0.008 \t \t#[m3/d]"
     ],
     "language": "python",
     "metadata": {},
     "outputs": [],
     "prompt_number": 39
    },
    {
     "cell_type": "heading",
     "level": 3,
     "metadata": {},
     "source": [
      "Discretization data"
     ]
    },
    {
     "cell_type": "code",
     "collapsed": false,
     "input": [
      "nlay = 1\n",
      "nrow = 1\n",
      "ncol = 200#4\n",
      "delr = 20.#[20.,25.,30.,35.]\n",
      "delc = 1.\n",
      "\n",
      "topL = -9.\n",
      "topR = 301.\n",
      "botL = -50.\n",
      "\n",
      "TOP  = np.linspace(topL,topR,ncol).reshape((nrow,ncol))\n",
      "BOTM = np.array(botL+TOP-topL).reshape((nlay,nrow,ncol))\n",
      "\n",
      "save_head_every=1"
     ],
     "language": "python",
     "metadata": {},
     "outputs": [],
     "prompt_number": 40
    },
    {
     "cell_type": "heading",
     "level": 3,
     "metadata": {},
     "source": [
      "BCN: WEL"
     ]
    },
    {
     "cell_type": "code",
     "collapsed": false,
     "input": [
      "lrcQ1 = np.array([(0, 0, 199, Q)]) #LRCQ, Q[m**3/d]"
     ],
     "language": "python",
     "metadata": {},
     "outputs": [],
     "prompt_number": 41
    },
    {
     "cell_type": "heading",
     "level": 3,
     "metadata": {},
     "source": [
      "BCN: GHB"
     ]
    },
    {
     "cell_type": "code",
     "collapsed": false,
     "input": [
      "lrchc \t\t\t\t\t= np.zeros((30, 5))\n",
      "lrchc[:, [0, 1, 3, 4]] \t= [0, 0, 0., 0.8 / 2.0 * delc]\n",
      "lrchc[:, 2] \t\t\t= np.arange(0, 30)"
     ],
     "language": "python",
     "metadata": {},
     "outputs": [],
     "prompt_number": 42
    },
    {
     "cell_type": "heading",
     "level": 3,
     "metadata": {},
     "source": [
      "SWI2"
     ]
    },
    {
     "cell_type": "code",
     "collapsed": false,
     "input": [
      "zini \t= np.hstack(( topL * np.ones(24), np.arange(topL, botL, -0.5), botL * np.ones(94)))[np.newaxis, :]\n",
      "isource = np.zeros((1, 200), dtype=np.int)\n",
      "isource[:, :30] = -2"
     ],
     "language": "python",
     "metadata": {},
     "outputs": [],
     "prompt_number": 43
    },
    {
     "cell_type": "heading",
     "level": 3,
     "metadata": {},
     "source": [
      "Model objects"
     ]
    },
    {
     "cell_type": "code",
     "collapsed": false,
     "input": [
      "ml = mf.Modflow(modelname, version='mf2005', exe_name=exe_name)\n",
      "discret = mf.ModflowDis(ml, nrow=nrow, ncol=ncol, nlay=nlay, delr=delr, delc=delc,\n",
      "                        laycbd=[0], top=TOP, botm=BOTM,\n",
      "                        nper=1, perlen=perlen, nstp=nstp)\t\t\t\t\t\t\t\t\t\t\t\t\t\t\n",
      "bas = mf.ModflowBas(ml, ibound=1, strt=1.0)\n",
      "bcf = mf.ModflowBcf(ml, laycon=[0], tran=[40.0])\n",
      "wel = mf.ModflowWel(ml, stress_period_data={0:lrcQ1})\n",
      "ghb = mf.ModflowGhb(ml, stress_period_data={0:lrchc})\n",
      "swi = mf.ModflowSwi2(ml, nsrf=1, istrat=1, toeslope=0.02, tipslope=0.04, nu=[0, 0.025],\n",
      "                     zeta=[zini], ssz=ssz, isource=isource, nsolver=1)\n",
      "oc  = mf.ModflowOc(ml, save_head_every=nstp)\n",
      "pcg = mf.ModflowPcg(ml)"
     ],
     "language": "python",
     "metadata": {},
     "outputs": [],
     "prompt_number": 44
    },
    {
     "cell_type": "code",
     "collapsed": false,
     "input": [
      "ml.write_input() #--write the model files"
     ],
     "language": "python",
     "metadata": {},
     "outputs": [],
     "prompt_number": 45
    },
    {
     "cell_type": "heading",
     "level": 2,
     "metadata": {},
     "source": [
      "Run the model"
     ]
    },
    {
     "cell_type": "code",
     "collapsed": false,
     "input": [
      "m = ml.run_model(silent=True, report=True)"
     ],
     "language": "python",
     "metadata": {},
     "outputs": [],
     "prompt_number": 46
    },
    {
     "cell_type": "heading",
     "level": 2,
     "metadata": {},
     "source": [
      "Read the output"
     ]
    },
    {
     "cell_type": "markdown",
     "metadata": {},
     "source": [
      "only one head entry and one zeta entry in binary files"
     ]
    },
    {
     "cell_type": "code",
     "collapsed": false,
     "input": [
      "headfile = modelname + '.hds'\n",
      "hdobj = fu.HeadFile(headfile)\n",
      "head = hdobj.get_data(idx=0)"
     ],
     "language": "python",
     "metadata": {},
     "outputs": [],
     "prompt_number": 47
    },
    {
     "cell_type": "code",
     "collapsed": false,
     "input": [
      "zetafile = modelname + '.zta'\n",
      "zobj = fu.CellBudgetFile(zetafile)\n",
      "zeta = zobj.get_data(idx=0, text='      ZETASRF  1')[0]"
     ],
     "language": "python",
     "metadata": {},
     "outputs": [],
     "prompt_number": 48
    },
    {
     "cell_type": "heading",
     "level": 2,
     "metadata": {},
     "source": [
      "Plot"
     ]
    },
    {
     "cell_type": "code",
     "collapsed": false,
     "input": [
      "import gridobj as grd\n",
      "gr = grd.gridobj(discret)"
     ],
     "language": "python",
     "metadata": {},
     "outputs": [],
     "prompt_number": 49
    },
    {
     "cell_type": "code",
     "collapsed": false,
     "input": [
      "fig = plt.figure()\n",
      "ax = fig.add_subplot(111)\n",
      "ax.plot(gr.cGr[0,:-1],TOP.squeeze(),drawstyle='steps')\n",
      "ax.plot(gr.cGr[0,:-1],BOTM.squeeze(),drawstyle='steps')\n",
      "ax.plot(gr.cGr[0,:-1],zini[0,:],drawstyle='steps', label='Initial')\n",
      "ax.plot(gr.cGr[0,:-1],zeta[0,0,:],drawstyle='steps', label='SWI2')\n",
      "ax.plot(gr.cGr[0,:-1],head[0, 0, :], label='feshw head')\n",
      "ax.plot(gr.cGr[0,:-1],TOP[:,0] - 40. * (head[0, 0, :]), label='Ghyben-Herzberg')\n",
      "ax.axis(gr.limLC())\n",
      "leg = ax.legend(loc='lower left', numpoints=1)\n",
      "leg._drawFrame = False"
     ],
     "language": "python",
     "metadata": {},
     "outputs": [
      {
       "metadata": {},
       "output_type": "display_data",
       "png": "[encoded data removed]",
       "text": [
        "<matplotlib.figure.Figure at 0xc1e2da0>"
       ]
      }
     ],
     "prompt_number": 58
    },
    {
     "cell_type": "code",
     "collapsed": false,
     "input": [
      "fig = plt.figure()\n",
      "ax = fig.add_subplot(111)\n",
      "ax.plot(gr.cGr[0,:-1],TOP.squeeze(),drawstyle='steps')\n",
      "ax.plot(gr.cGr[0,:-1],BOTM.squeeze(),drawstyle='steps')\n",
      "ax.plot(gr.cGr[0,:-1],zini[0,:],drawstyle='steps', label='Initial')\n",
      "ax.plot(gr.cGr[0,:-1],zeta[0,0,:],drawstyle='steps', label='SWI2')\n",
      "ax.plot(gr.cGr[0,:-1],head[0, 0, :], label='feshw head')\n",
      "ax.plot(gr.cGr[0,:-1],TOP[:,0] - 40. * (head[0, 0, :]), label='Ghyben-Herzberg')\n",
      "ax.axis(gr.limLC([0,-3200,-5,-280]))\n",
      "leg = ax.legend(loc='lower left', numpoints=1)\n",
      "leg._drawFrame = False"
     ],
     "language": "python",
     "metadata": {},
     "outputs": [
      {
       "metadata": {},
       "output_type": "display_data",
       "png": "[encoded data removed]",
       "text": [
        "<matplotlib.figure.Figure at 0xc1d6e10>"
       ]
      }
     ],
     "prompt_number": 59
    },
    {
     "cell_type": "code",
     "collapsed": false,
     "input": [],
     "language": "python",
     "metadata": {},
     "outputs": []
    }
   ],
   "metadata": {}
  }
 ]
}