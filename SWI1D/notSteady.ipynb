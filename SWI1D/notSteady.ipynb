{
 "metadata": {
  "name": "",
  "signature": "sha256:f0ea3dba5484704961eac83b085786ddcfd63acf16dd335c6ec1f70be826b96e"
 },
 "nbformat": 3,
 "nbformat_minor": 0,
 "worksheets": [
  {
   "cells": [
    {
     "cell_type": "heading",
     "level": 1,
     "metadata": {},
     "source": [
      "SWI - single layer"
     ]
    },
    {
     "cell_type": "markdown",
     "metadata": {},
     "source": [
      "A single confined layer. GHB on the LHS representing an ocean bcn. WEL on the \n",
      "RHS representing the freshwater coming from land.\n",
      "One stress period is defined of perlen days and is devided into nstp time steps \n",
      "and only the solution at the end of the stress period is written as output.\n",
      "bdestombe@gmail.com\n",
      "\n",
      "The model is not approaching steady state just yet, therefore the SWI solution and the Badon Ghyben Herzberg cannot be compared. We will do this anyway."
     ]
    },
    {
     "cell_type": "code",
     "collapsed": false,
     "input": [
      "%matplotlib inline\n",
      "import os\n",
      "import sys\n",
      "import numpy as np\n",
      "import flopy.modflow as mf\n",
      "import flopy.utils as fu\n",
      "import matplotlib.pyplot as plt"
     ],
     "language": "python",
     "metadata": {},
     "outputs": [],
     "prompt_number": 89
    },
    {
     "cell_type": "heading",
     "level": 2,
     "metadata": {},
     "source": [
      "Paths"
     ]
    },
    {
     "cell_type": "code",
     "collapsed": false,
     "input": [
      "os.chdir('C:\\\\Users\\\\Bas\\\\Google Drive\\\\USGS\\\\FloPy\\\\slope1D')\n",
      "sys.path.append('C:\\\\Users\\\\Bas\\\\Google Drive\\\\USGS\\\\FloPy\\\\basScript') # location of gridObj\n",
      "\n",
      "modelname \t= 'run1swi2'\n",
      "exe_name \t= 'mf2005'\n",
      "workspace \t= 'data'"
     ],
     "language": "python",
     "metadata": {},
     "outputs": [],
     "prompt_number": 90
    },
    {
     "cell_type": "heading",
     "level": 2,
     "metadata": {},
     "source": [
      "Model input"
     ]
    },
    {
     "cell_type": "code",
     "collapsed": false,
     "input": [
      "ml = mf.Modflow(modelname, exe_name=exe_name, model_ws=workspace)"
     ],
     "language": "python",
     "metadata": {},
     "outputs": [],
     "prompt_number": 91
    },
    {
     "cell_type": "heading",
     "level": 3,
     "metadata": {},
     "source": [
      "Test variables"
     ]
    },
    {
     "cell_type": "code",
     "collapsed": false,
     "input": [
      "tscale\t= 750\n",
      "nstp \t= tscale * 100 \t\t\t#[]\n",
      "perlen \t= tscale * 365.\t\t\t#[d]\n",
      "ssz \t= 0.2 \t\t\t\t\t#[]\n",
      "Q \t\t= 0.005 \t \t\t\t#[m3/d]"
     ],
     "language": "python",
     "metadata": {},
     "outputs": [],
     "prompt_number": 92
    },
    {
     "cell_type": "heading",
     "level": 3,
     "metadata": {},
     "source": [
      "Discretization data"
     ]
    },
    {
     "cell_type": "code",
     "collapsed": false,
     "input": [
      "nlay = 1\n",
      "nrow = 1\n",
      "ncol = 200\n",
      "delr = 20.\n",
      "delc = 1.\n",
      "\n",
      "topL = -9.\n",
      "botL = -50.\n",
      "\n",
      "save_head_every = 1"
     ],
     "language": "python",
     "metadata": {},
     "outputs": [],
     "prompt_number": 93
    },
    {
     "cell_type": "heading",
     "level": 3,
     "metadata": {},
     "source": [
      "BCN: WEL"
     ]
    },
    {
     "cell_type": "code",
     "collapsed": false,
     "input": [
      "lrcQ1 = np.array([(0, 0, 199, Q)]) #LRCQ, Q[m**3/d]"
     ],
     "language": "python",
     "metadata": {},
     "outputs": [],
     "prompt_number": 94
    },
    {
     "cell_type": "heading",
     "level": 3,
     "metadata": {},
     "source": [
      "BCN: GHB"
     ]
    },
    {
     "cell_type": "code",
     "collapsed": false,
     "input": [
      "lrchc \t\t\t\t\t= np.zeros((30, 5))\n",
      "lrchc[:, [0, 1, 3, 4]] \t= [0, 0, 0., 0.8 / 2.0 * delc]\n",
      "lrchc[:, 2] \t\t\t= np.arange(0, 30)"
     ],
     "language": "python",
     "metadata": {},
     "outputs": [],
     "prompt_number": 95
    },
    {
     "cell_type": "heading",
     "level": 3,
     "metadata": {},
     "source": [
      "SWI2"
     ]
    },
    {
     "cell_type": "code",
     "collapsed": false,
     "input": [
      "zini \t= np.hstack(( topL * np.ones(24), np.arange(topL, botL, -0.5), botL * np.ones(94)))[np.newaxis, :]\n",
      "isource = np.zeros((1, 200), dtype=np.int)\n",
      "isource[:, :30] = -2"
     ],
     "language": "python",
     "metadata": {},
     "outputs": [],
     "prompt_number": 96
    },
    {
     "cell_type": "heading",
     "level": 3,
     "metadata": {},
     "source": [
      "Model objects"
     ]
    },
    {
     "cell_type": "code",
     "collapsed": false,
     "input": [
      "ml = mf.Modflow(modelname, version='mf2005', exe_name=exe_name)\n",
      "discret = mf.ModflowDis(ml, nrow=nrow, ncol=ncol, nlay=nlay, delr=delr, delc=delc,\n",
      "                        laycbd=[0], top=topL, botm=botL,\n",
      "                        nper=1, perlen=perlen, nstp=nstp)\t\t\t\t\t\t\t\t\t\t\t\t\t\t\n",
      "bas = mf.ModflowBas(ml, ibound=1, strt=1.0)\n",
      "bcf = mf.ModflowBcf(ml, laycon=[0], tran=[40.0])\n",
      "wel = mf.ModflowWel(ml, stress_period_data={0:lrcQ1})\n",
      "ghb = mf.ModflowGhb(ml, stress_period_data={0:lrchc})\n",
      "swi = mf.ModflowSwi2(ml, nsrf=1, istrat=1, toeslope=0.02, tipslope=0.04, nu=[0, 0.025],\n",
      "                     zeta=[zini], ssz=ssz, isource=isource, nsolver=1)\n",
      "oc  = mf.ModflowOc(ml, save_head_every=nstp)\n",
      "pcg = mf.ModflowPcg(ml)"
     ],
     "language": "python",
     "metadata": {},
     "outputs": [],
     "prompt_number": 97
    },
    {
     "cell_type": "code",
     "collapsed": false,
     "input": [
      "ml.write_input() #--write the model files"
     ],
     "language": "python",
     "metadata": {},
     "outputs": [],
     "prompt_number": 98
    },
    {
     "cell_type": "heading",
     "level": 2,
     "metadata": {},
     "source": [
      "Run the model"
     ]
    },
    {
     "cell_type": "code",
     "collapsed": false,
     "input": [
      "m = ml.run_model(silent=True, report=True)"
     ],
     "language": "python",
     "metadata": {},
     "outputs": [],
     "prompt_number": 99
    },
    {
     "cell_type": "heading",
     "level": 2,
     "metadata": {},
     "source": [
      "Read the output"
     ]
    },
    {
     "cell_type": "markdown",
     "metadata": {},
     "source": [
      "only one head entry and one zeta entry in binary files"
     ]
    },
    {
     "cell_type": "code",
     "collapsed": false,
     "input": [
      "headfile = modelname + '.hds'\n",
      "hdobj = fu.HeadFile(headfile)\n",
      "head = hdobj.get_data(idx=0)"
     ],
     "language": "python",
     "metadata": {},
     "outputs": [],
     "prompt_number": 100
    },
    {
     "cell_type": "code",
     "collapsed": false,
     "input": [
      "zetafile = modelname + '.zta'\n",
      "zobj = fu.CellBudgetFile(zetafile)\n",
      "zeta = zobj.get_data(idx=0, text='      ZETASRF  1')[0]"
     ],
     "language": "python",
     "metadata": {},
     "outputs": [],
     "prompt_number": 101
    },
    {
     "cell_type": "heading",
     "level": 2,
     "metadata": {},
     "source": [
      "Plot"
     ]
    },
    {
     "cell_type": "code",
     "collapsed": false,
     "input": [
      "import gridobj as grd\n",
      "gr = grd.gridobj(discret)"
     ],
     "language": "python",
     "metadata": {},
     "outputs": [],
     "prompt_number": 102
    },
    {
     "cell_type": "code",
     "collapsed": false,
     "input": [
      "fig = plt.figure()\n",
      "ax = fig.add_subplot(111)\n",
      "ax.plot(gr.cGr[0,:-1],zini[0,:],drawstyle='steps', label='Initial')\n",
      "ax.plot(gr.cGr[0,:-1],zeta[0,0,:],drawstyle='steps', label='SWI2')\n",
      "ax.plot(gr.cGr[0,:-1],topL - 40. * (head[0, 0, :]), label='Ghyben-Herzberg')\n",
      "ax.plot(gr.cGr[0,:-1],head[0, 0, :], label='Freshwater head')\n",
      "ax.axis([gr.cGr[0,0],gr.cGr[0,-1],gr.lGr[-1]-2.,gr.lGr[0]+12.])\n",
      "leg = ax.legend(loc='lower left', numpoints=1)\n",
      "leg._drawFrame = False"
     ],
     "language": "python",
     "metadata": {},
     "outputs": [
      {
       "metadata": {},
       "output_type": "display_data",
       "png": "[encoded data removed]",
       "text": [
        "<matplotlib.figure.Figure at 0xa143cf8>"
       ]
      }
     ],
     "prompt_number": 103
    }
   ],
   "metadata": {}
  }
 ]
}