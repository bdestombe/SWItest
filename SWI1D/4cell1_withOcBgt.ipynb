{
 "cells": [
  {
   "cell_type": "markdown",
   "metadata": {},
   "source": [
    "# SWI - single layer"
   ]
  },
  {
   "cell_type": "markdown",
   "metadata": {},
   "source": [
    "Test case - strange behaviour output control package\n",
    "When requesting both budget and head data via the OC package, the solution \n",
    "differs from when only the head is requested.\n",
    "\n",
    "This is set via the 'words' parameter in the OC package."
   ]
  },
  {
   "cell_type": "code",
   "execution_count": 15,
   "metadata": {
    "collapsed": true
   },
   "outputs": [],
   "source": [
    "%matplotlib inline\n",
    "import os\n",
    "import sys\n",
    "import numpy as np\n",
    "import flopy.modflow as mf\n",
    "import flopy.utils as fu\n",
    "import matplotlib.pyplot as plt"
   ]
  },
  {
   "cell_type": "code",
   "execution_count": 16,
   "metadata": {
    "collapsed": true
   },
   "outputs": [],
   "source": [
    "os.chdir('C:\\\\Users\\\\Bas\\\\Google Drive\\\\USGS\\\\FloPy\\\\slope1D')\n",
    "sys.path.append('C:\\\\Users\\\\Bas\\\\Google Drive\\\\USGS\\\\FloPy\\\\basScript') # location of gridObj\n",
    "\n",
    "modelname \t= 'run1swi2'\n",
    "exe_name \t= 'mf2005'\n",
    "workspace \t= 'data'"
   ]
  },
  {
   "cell_type": "code",
   "execution_count": 17,
   "metadata": {
    "collapsed": true
   },
   "outputs": [],
   "source": [
    "ml = mf.Modflow(modelname, exe_name=exe_name, model_ws=workspace)"
   ]
  },
  {
   "cell_type": "code",
   "execution_count": 18,
   "metadata": {
    "collapsed": true
   },
   "outputs": [],
   "source": [
    "nstp    = 10000\t     #[]\n",
    "perlen  = 10000\t     #[d]\n",
    "ssz     = 0.2 \t     #[]\n",
    "Q       = 0.005      #[m3/d]"
   ]
  },
  {
   "cell_type": "code",
   "execution_count": 19,
   "metadata": {
    "collapsed": true
   },
   "outputs": [],
   "source": [
    "nlay = 1\n",
    "nrow = 1\n",
    "ncol = 4\n",
    "delr = 1.\n",
    "delc = 1.\n",
    "dell = 1.\n",
    "\n",
    "top = np.array([[-1.,-1., -0.7, -0.4]], dtype = np.float32)\n",
    "bot = np.array(top-dell, dtype = np.float32).reshape((nlay,nrow,ncol))\n",
    "initWL = 0. # inital water level"
   ]
  },
  {
   "cell_type": "code",
   "execution_count": 20,
   "metadata": {
    "collapsed": true
   },
   "outputs": [],
   "source": [
    "lrcQ1 = np.recarray(1, dtype = mf.ModflowWel.get_default_dtype())\n",
    "lrcQ1[0] = (0, 0, ncol-1, Q) #LRCQ, Q[m**3/d]"
   ]
  },
  {
   "cell_type": "code",
   "execution_count": 21,
   "metadata": {
    "collapsed": true
   },
   "outputs": [],
   "source": [
    "lrchc = np.recarray(2, dtype = mf.ModflowGhb.get_default_dtype())\n",
    "lrchc[0]=(0, 0, 0, -top[0,0]*0.025, 0.8 / 2.0 * delc)\n",
    "lrchc[1]=(0, 0, 1, -top[0,0]*0.025, 0.8 / 2.0 * delc)"
   ]
  },
  {
   "cell_type": "code",
   "execution_count": 22,
   "metadata": {
    "collapsed": true
   },
   "outputs": [],
   "source": [
    "lrchd = np.recarray(2, dtype = mf.ModflowChd.get_default_dtype())\n",
    "lrchd[0]=(0, 0, 0, -top[0,0]*0.025, -top[0,0]*0.025)\n",
    "lrchd[1]=(0, 0, 1, -top[0,0]*0.025, -top[0,0]*0.025)"
   ]
  },
  {
   "cell_type": "code",
   "execution_count": 23,
   "metadata": {
    "collapsed": true
   },
   "outputs": [],
   "source": [
    "zini = -0.9*np.ones((nrow,ncol))\n",
    "isource = np.array([[-2,-2, 0, 0]])"
   ]
  },
  {
   "cell_type": "code",
   "execution_count": 24,
   "metadata": {
    "collapsed": false
   },
   "outputs": [],
   "source": [
    "ml = mf.Modflow(modelname, version='mf2005', exe_name=exe_name)\n",
    "discret = mf.ModflowDis(ml, nrow=nrow, ncol=ncol, nlay=nlay, delr=delr, delc=delc,\n",
    "                        laycbd=[0], top=top, botm=bot,\n",
    "                        nper=1, perlen=perlen, nstp=nstp)\n",
    "bas = mf.ModflowBas(ml, ibound=1, strt=(initWL-zini)*0.025)\n",
    "bcf = mf.ModflowBcf(ml, laycon=[0], tran=[4.0])\n",
    "wel = mf.ModflowWel(ml, stress_period_data={0:lrcQ1})\n",
    "#ghb = mf.ModflowGhb(ml, stress_period_data={0:lrchc})\n",
    "chd = mf.ModflowChd(ml, stress_period_data={0:lrchd})\n",
    "swi = mf.ModflowSwi2(ml, nsrf=1, istrat=1, toeslope=0.02, tipslope=0.04, nu=[0, 0.025],\n",
    "                     zeta=[zini], ssz=ssz, isource=isource, nsolver=1)\n",
    "oc  = mf.ModflowOc(ml, words=['head','budget'],save_head_every=nstp)\n",
    "pcg = mf.ModflowPcg(ml)"
   ]
  },
  {
   "cell_type": "code",
   "execution_count": 25,
   "metadata": {
    "collapsed": true
   },
   "outputs": [],
   "source": [
    "ml.write_input() #--write the model files\n",
    "m = ml.run_model(silent=True, report=True)"
   ]
  },
  {
   "cell_type": "code",
   "execution_count": 26,
   "metadata": {
    "collapsed": false
   },
   "outputs": [],
   "source": [
    "headfile = modelname + '.hds'\n",
    "hdobj = fu.HeadFile(headfile)\n",
    "head = hdobj.get_data(idx=0)\n",
    "\n",
    "zetafile = modelname + '.zta'\n",
    "zobj = fu.CellBudgetFile(zetafile)\n",
    "zeta = zobj.get_data(idx=0, text='      ZETASRF  1')[0]"
   ]
  },
  {
   "cell_type": "code",
   "execution_count": 27,
   "metadata": {
    "collapsed": false
   },
   "outputs": [
    {
     "name": "stdout",
     "output_type": "stream",
     "text": [
      "isource:         [[[-2 -2  0  0]]]\n",
      "init zeta:       [[[-0.89999998 -0.89999998 -0.89999998 -0.89999998]]]\n",
      "init fresh hd:   [[[ 0.0225  0.0225  0.0225  0.0225]]]\n",
      "final head:      [ 0.025    0.025    0.02375  0.025  ]\n",
      "final zeta:      [-1.         -1.         -0.91022718 -0.91477269]\n",
      "final BGH head:  [-1.         -1.         -0.94999999 -1.        ]\n"
     ]
    }
   ],
   "source": [
    "print 'isource:        ', swi.isource.array\n",
    "print 'init zeta:      ', swi.zeta[0].array\n",
    "print 'init fresh hd:  ', bas.strt.array\n",
    "print 'final head:     ', head[0, 0, :]\n",
    "print 'final zeta:     ', zeta[0,0,:]\n",
    "print 'final BGH head: ', - 40. * (head[0, 0, :])"
   ]
  },
  {
   "cell_type": "code",
   "execution_count": 28,
   "metadata": {
    "collapsed": false
   },
   "outputs": [
    {
     "data": {
      "image/png": "[encoded data removed]",
      "text/plain": [
       "<matplotlib.figure.Figure at 0x37d9b70>"
      ]
     },
     "metadata": {},
     "output_type": "display_data"
    }
   ],
   "source": [
    "import gridobj as grd\n",
    "gr = grd.gridobj(discret)\n",
    "\n",
    "fig = plt.figure(figsize=(16, 8), dpi=300, facecolor='w', edgecolor='k')\n",
    "ax = fig.add_subplot(111)\n",
    "gr.plotgrLC(ax)\n",
    "gr.plothdLC(ax,zini[0,:],label='Initial')\n",
    "gr.plothdLC(ax,zeta[0,0,:], label='SWI2')\n",
    "gr.plothdLC(ax,head[0, 0, :], label='feshw head')\n",
    "gr.plothdLC(ax,-40. * (head[0, 0, :]), label='Ghyben-Herzberg')\n",
    "\n",
    "ax.axis(gr.limLC([-0.2,0.2,-0.2,0.2]))\n",
    "leg = ax.legend(loc='lower left', numpoints=1)\n",
    "leg._drawFrame = False"
   ]
  },
  {
   "cell_type": "markdown",
   "metadata": {
    "collapsed": true
   },
   "source": [
    "                      VOLUMETRIC SWI ZONE BUDGET FOR ENTIRE MODEL\n",
    "                     AT END OF TIME STEP10000 IN STRESS PERIOD   1\n",
    "                                      ZONE     1\n",
    "  -----------------------------------------------------------------------------------\n",
    "\n",
    "        CUMULATIVE VOLUMES      L**3       RATES FOR THIS TIME STEP      L**3/T\n",
    "        ------------------                 ------------------------\n",
    "\n",
    "              IN:                                      IN:\n",
    "              ---                                      ---\n",
    "             BOUNDARIES =          50.0015            BOUNDARIES =       5.0000E-03\n",
    "          CONSTANT HEAD =           0.0000         CONSTANT HEAD =           0.0000\n",
    "            ZONE CHANGE =       2.0018E-02           ZONE CHANGE =           0.0000\n",
    "       ZONE CHG TIP/TOE =       5.9999E-03      ZONE CHG TIP/TOE =           0.0000\n",
    "            ZONE MIXING =           0.0000           ZONE MIXING =           0.0000\n",
    "\n",
    "               TOTAL IN =          50.0275              TOTAL IN =       5.0000E-03\n",
    "\n",
    "             OUT:                                     OUT:\n",
    "             ----                                     ----\n",
    "             BOUNDARIES =           0.0000            BOUNDARIES =           0.0000\n",
    "          CONSTANT HEAD =          49.8714         CONSTANT HEAD =       5.0000E-03\n",
    "            ZONE CHANGE =           0.1546           ZONE CHANGE =           0.0000\n",
    "       ZONE CHG TIP/TOE =       5.9999E-03      ZONE CHG TIP/TOE =           0.0000\n",
    "            ZONE MIXING =           0.0000           ZONE MIXING =           0.0000\n",
    "\n",
    "              TOTAL OUT =          50.0320             TOTAL OUT =       5.0000E-03\n",
    "\n",
    "               IN - OUT =      -4.5395E-03              IN - OUT =       9.3132E-10\n",
    "\n",
    "    PERCENT DISCREPANCY =          -0.01     PERCENT DISCREPANCY =           0.00\n",
    "\n",
    "\n",
    "\n",
    "                      VOLUMETRIC SWI ZONE BUDGET FOR ENTIRE MODEL\n",
    "                     AT END OF TIME STEP10000 IN STRESS PERIOD   1\n",
    "                                      ZONE     2\n",
    "  -----------------------------------------------------------------------------------\n",
    "\n",
    "        CUMULATIVE VOLUMES      L**3       RATES FOR THIS TIME STEP      L**3/T\n",
    "        ------------------                 ------------------------\n",
    "\n",
    "              IN:                                      IN:\n",
    "              ---                                      ---\n",
    "             BOUNDARIES =           0.0000            BOUNDARIES =           0.0000\n",
    "          CONSTANT HEAD =           0.0000         CONSTANT HEAD =           0.0000\n",
    "            ZONE CHANGE =           0.1546           ZONE CHANGE =           0.0000\n",
    "       ZONE CHG TIP/TOE =       1.8834E-02      ZONE CHG TIP/TOE =           0.0000\n",
    "            ZONE MIXING =           0.0000           ZONE MIXING =           0.0000\n",
    "\n",
    "               TOTAL IN =           0.1734              TOTAL IN =           0.0000\n",
    "\n",
    "             OUT:                                     OUT:\n",
    "             ----                                     ----\n",
    "             BOUNDARIES =           0.0000            BOUNDARIES =           0.0000\n",
    "          CONSTANT HEAD =           0.1300         CONSTANT HEAD =           0.0000\n",
    "            ZONE CHANGE =       3.2853E-02           ZONE CHANGE =           0.0000\n",
    "       ZONE CHG TIP/TOE =       5.9999E-03      ZONE CHG TIP/TOE =           0.0000\n",
    "            ZONE MIXING =           0.0000           ZONE MIXING =           0.0000\n",
    "\n",
    "              TOTAL OUT =           0.1689             TOTAL OUT =           0.0000\n",
    "\n",
    "               IN - OUT =       4.5692E-03              IN - OUT =           0.0000\n",
    "\n",
    "    PERCENT DISCREPANCY =           2.67     PERCENT DISCREPANCY =           0.00\n",
    "\n",
    "1\n",
    "  VOLUMETRIC BUDGET FOR ENTIRE MODEL AT END OF TIME STEP10000, STRESS PERIOD   1\n",
    "  ------------------------------------------------------------------------------\n",
    "\n",
    "     CUMULATIVE VOLUMES      L**3       RATES FOR THIS TIME STEP      L**3/T\n",
    "     ------------------                 ------------------------\n",
    "\n",
    "           IN:                                      IN:\n",
    "           ---                                      ---\n",
    "             STORAGE =           0.0000               STORAGE =           0.0000\n",
    "       CONSTANT HEAD =       1.4306E-02         CONSTANT HEAD =           0.0000\n",
    "               WELLS =          50.0015                 WELLS =       5.0000E-03\n",
    "          SWIADDTOCH =         149.7491            SWIADDTOCH =       1.5000E-02\n",
    "\n",
    "            TOTAL IN =         199.7649              TOTAL IN =       2.0000E-02\n",
    "\n",
    "          OUT:                                     OUT:\n",
    "          ----                                     ----\n",
    "             STORAGE =           0.0000               STORAGE =           0.0000\n",
    "       CONSTANT HEAD =         199.7248         CONSTANT HEAD =       2.0000E-02\n",
    "               WELLS =           0.0000                 WELLS =           0.0000\n",
    "          SWIADDTOCH =       4.9679E-02            SWIADDTOCH =           0.0000\n",
    "\n",
    "           TOTAL OUT =         199.7745             TOTAL OUT =       2.0000E-02\n",
    "\n",
    "            IN - OUT =      -9.6436E-03              IN - OUT =           0.0000\n",
    "\n",
    " PERCENT DISCREPANCY =          -0.00     PERCENT DISCREPANCY =           0.00"
   ]
  },
  {
   "cell_type": "code",
   "execution_count": null,
   "metadata": {
    "collapsed": true
   },
   "outputs": [],
   "source": []
  }
 ],
 "metadata": {
  "kernelspec": {
   "display_name": "Python 2",
   "language": "python",
   "name": "python2"
  },
  "language_info": {
   "codemirror_mode": {
    "name": "ipython",
    "version": 2
   },
   "file_extension": ".py",
   "mimetype": "text/x-python",
   "name": "python",
   "nbconvert_exporter": "python",
   "pygments_lexer": "ipython2",
   "version": "2.7.8"
  }
 },
 "nbformat": 4,
 "nbformat_minor": 0
}
